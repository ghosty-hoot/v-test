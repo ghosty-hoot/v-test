{
 "cells": [
  {
   "cell_type": "markdown",
   "metadata": {},
   "source": [
    "# virtualenvを用いた開発用仮想環境の構築手順\n",
    "\n",
    "\n",
    "\n",
    "Pythonは便利ですが、現行のバージョンが2.7系と3.x系に分かれているため、\n",
    "それぞれに合わせて開発したいという場合に環境構築が煩雑になりがちです。\n",
    "\n",
    "そこで、Ubuntuを用いて異なるバージョンのPythonを共存させながら、\n",
    "virtualenvを用いた仮想環境で異なるバージョンを使い分けることで、\n",
    "環境構築と開発を円滑化する方法を検討します。\n",
    "\n",
    "\n",
    "\n",
    "## 目的と利点\n",
    "\n",
    "\n",
    "\n",
    "異なるバージョンのPythonを同時に扱えるように仮想環境を構築します。\n",
    "\n",
    "仮想環境を使うことで、異なるバージョンのPythonおよびパッケージを\n",
    "使い分けることができます。\n",
    "\n",
    "\n",
    "\n",
    "## 手順\n",
    "\n",
    "\n",
    "\n",
    "1. 事前準備\n",
    "2. virtualenvのインストール\n",
    "3. Pythonのインストール\n",
    "4. 仮想環境の構築\n",
    "5. 仮想環境の利用\n",
    "6. その他のパッケージ\n",
    "7. IPython Notebookの利用\n",
    "\n",
    "\n",
    "\n",
    "### 1. 事前準備\n",
    "\n",
    "\n",
    "\n",
    "できる限りパッケージのインストールでコケないように、標準開発ツールを\n",
    "予めインストールしておきます。\n",
    "\n"
   ]
  },
  {
   "cell_type": "markdown",
   "metadata": {},
   "source": [
    "```\n",
    "$ sudo apt-get update\n",
    "$ sudo apt-get upgrade\n",
    "\n",
    "$ sudo apt-get install build-essential\n",
    "```"
   ]
  },
  {
   "cell_type": "markdown",
   "metadata": {},
   "source": [
    "\n",
    "\n",
    "\n",
    "### 2. virtualenvのインストール\n",
    "\n",
    "\n",
    "virtualenvはPythonの実行環境を仮想的に提供するパッケージです。\n",
    "\n",
    "これを用いることで、異なるバージョンのPythonやパッケージの実行環境を\n",
    "使い分けることができます。\n",
    "\n",
    "virtualenv自体はOSデフォルトのPythonから呼び出すため、下記のコマンドで\n",
    "インストールします。\n",
    "\n"
   ]
  },
  {
   "cell_type": "markdown",
   "metadata": {},
   "source": [
    "```\n",
    "$ sudo apt-get install python-virtualenv\n",
    "```"
   ]
  },
  {
   "cell_type": "markdown",
   "metadata": {},
   "source": [
    "\n",
    "\n",
    "\n",
    "### 3. Pythonのインストール\n",
    "\n",
    "\n",
    "\n",
    "仮想環境で使用するPythonをインストールします。今回はv2.7.6とv.3.4.0を用います。\n",
    "\n"
   ]
  },
  {
   "cell_type": "markdown",
   "metadata": {},
   "source": [
    "```\n",
    "$ sudo apt-get install python2.7\n",
    "$ sudo apt-get install python3.4\n",
    "```"
   ]
  },
  {
   "cell_type": "markdown",
   "metadata": {},
   "source": [
    "\n",
    "\n",
    "\n",
    "### 4. 仮想環境の構築\n",
    "\n",
    "\n",
    "\n",
    "vitualenvで仮想環境を作成します。-pで使用するPythonインタープリタを指定します。\n",
    "\n",
    "今回はOSデフォルトのPython(v2.7.6)を使って、v2.7.6とv3.4.0の仮想環境作成します。\n",
    "\n"
   ]
  },
  {
   "cell_type": "markdown",
   "metadata": {},
   "source": [
    "```\n",
    "$ python /usr/bin/virtualenv -p python2.7 v2.7\n",
    "$ python /usr/bin/virtualenv -p python3.4 v3.4\n",
    "```"
   ]
  },
  {
   "cell_type": "markdown",
   "metadata": {},
   "source": [
    "\n",
    "\n",
    "以上のコマンドで、ホームディレクトリに「v2.7」と「v3.4」というディレクトリが作成されます。\n",
    "\n",
    "\n",
    "\n",
    "### 5. 仮想環境の利用\n",
    "\n",
    "\n",
    "\n",
    "virtualenvで作成したディレクトリにあるactivateを実行することで、仮想環境が有効化されます。\n",
    "有効化後はカーソルがディレクトリ名に変化します。\n",
    "\n"
   ]
  },
  {
   "cell_type": "markdown",
   "metadata": {},
   "source": [
    "```\n",
    "$ source v2.7/bin/activate\n",
    "(v2.7) $\n",
    "```"
   ]
  },
  {
   "cell_type": "markdown",
   "metadata": {},
   "source": [
    "\n",
    "\n",
    "仮想環境ではpipを用いてパッケージの管理を行います。\n",
    "\n"
   ]
  },
  {
   "cell_type": "markdown",
   "metadata": {},
   "source": [
    "```\n",
    "(v2.7) $ pip freeze\n",
    "argparse==1.2.1\n",
    "wsgiref==0.1.2\n",
    "```"
   ]
  },
  {
   "cell_type": "markdown",
   "metadata": {},
   "source": [
    "\n",
    "仮想環境を終了する際はdeactivateというコマンドを実行します。\n"
   ]
  },
  {
   "cell_type": "markdown",
   "metadata": {},
   "source": [
    "```\n",
    "(v2.7) $ deactive\n",
    "$\n",
    "```"
   ]
  },
  {
   "cell_type": "markdown",
   "metadata": {},
   "source": [
    "\n",
    "### 6. その他のパッケージ\n",
    "\n",
    "以下、よく必要になるパッケージをインストールします。\n",
    "(numpy、scipy、pandas、IPython、matplotlib、Bokeh)\n",
    "\n"
   ]
  },
  {
   "cell_type": "markdown",
   "metadata": {},
   "source": [
    "```\n",
    "numpyのインストール\n",
    "(v2.7) $ pip install numpy\n",
    "\n",
    "fortranのインストール\n",
    "$ sudo apt-get install gfortran\n",
    "lapackのインストール\n",
    "$ sudo apt-get install liblapack-dev\n",
    "scipyのインストール\n",
    "(v2.7) $ pip install scipy\n",
    "\n",
    "pandasのインストール\n",
    "(v2.7) $ pip install pandas\n",
    "\n",
    "IPythonのインストール\n",
    "(v2.7) $ pip install ipython\n",
    "notebookオプションを利用するためのパッケージのインストール\n",
    "(v2.7) $ pip install　jinja2 jsonschema pyzmq tornado\n",
    "\n",
    "matplotlibのインストール\n",
    "libpngのインストール\n",
    "$ sudo apt-get install libpng-dev\n",
    "freetypeのインストール\n",
    "$ sudo apt-get install libfreetype6-dev\n",
    "matplotlibのインストール\n",
    "(v2.7) $ pip install matplotlib\n",
    "\n",
    "Bokehのインストール\n",
    "(v2.7) $ pip install bokeh\n",
    "```"
   ]
  },
  {
   "cell_type": "markdown",
   "metadata": {},
   "source": [
    "\n",
    "### 7. IPython Notebookの利用\n",
    "\n",
    "\n",
    "\n",
    "IPython Notebookというブラウザ上からIPythonを利用できるオプションを用いて\n",
    "仮想環境でIPythonを利用します。\n",
    "\n",
    "以下のコマンドを使用すると、ブラウザが開いてIPython Notebookを利用できます。\n",
    "\n",
    "\n",
    "\n",
    "```\n",
    "(v2.7) $ ipython notebook\n",
    "```\n",
    "\n",
    "\n",
    "IPythonのコマンドをNotebookファイルというファイルごとに管理します。\n",
    "Notebookファイルを編集した後、HTMLやPDFで保存できます。\n"
   ]
  },
  {
   "cell_type": "code",
   "execution_count": 1,
   "metadata": {
    "collapsed": false
   },
   "outputs": [
    {
     "name": "stdout",
     "output_type": "stream",
     "text": [
      "Hello world\n"
     ]
    }
   ],
   "source": [
    "print \"Hello world\""
   ]
  },
  {
   "cell_type": "markdown",
   "metadata": {},
   "source": []
  }
 ],
 "metadata": {
  "kernelspec": {
   "display_name": "Python 2",
   "language": "python",
   "name": "python2"
  },
  "language_info": {
   "codemirror_mode": {
    "name": "ipython",
    "version": 2
   },
   "file_extension": ".py",
   "mimetype": "text/x-python",
   "name": "python",
   "nbconvert_exporter": "python",
   "pygments_lexer": "ipython2",
   "version": "2.7.6"
  }
 },
 "nbformat": 4,
 "nbformat_minor": 0
}
